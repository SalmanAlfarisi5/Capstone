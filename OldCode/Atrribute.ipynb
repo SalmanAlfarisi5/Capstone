{
 "cells": [
  {
   "cell_type": "markdown",
   "id": "d5ac6369",
   "metadata": {},
   "source": [
    "Import libraries"
   ]
  },
  {
   "cell_type": "code",
   "execution_count": 10,
   "id": "9ff0b9fe",
   "metadata": {},
   "outputs": [],
   "source": [
    "import pandas as pd\n",
    "import itertools\n",
    "\n",
    "from sklearn.preprocessing import MinMaxScaler"
   ]
  },
  {
   "cell_type": "markdown",
   "id": "72a5284a",
   "metadata": {},
   "source": [
    "Read & reformulate the data"
   ]
  },
  {
   "cell_type": "code",
   "execution_count": 8,
   "id": "bd463f32",
   "metadata": {},
   "outputs": [
    {
     "data": {
      "text/plain": [
       "model\n",
       "EcoDrive        25\n",
       "EngineGuard     19\n",
       "ClutchKit       18\n",
       "RideComfort     16\n",
       "UltraCharge     15\n",
       "Touring         15\n",
       "FloorMat        14\n",
       "VoltPlus        14\n",
       "SmoothRide      14\n",
       "GPSNavigator    13\n",
       "UltraAbsorb     13\n",
       "CarStereo       13\n",
       "PowerFlow       13\n",
       "DashCam         12\n",
       "Enduro          12\n",
       "SparkPlug       11\n",
       "All-Terrain     11\n",
       "FuelPump        11\n",
       "BrakePad        11\n",
       "PowerMax        10\n",
       "SportMax        10\n",
       "GripPro         10\n",
       "ShockGuard       9\n",
       "AirFilter        9\n",
       "MegaCell         9\n",
       "MaxProtect       9\n",
       "TurboLube        8\n",
       "StabilityPro     8\n",
       "PhoneHolder      8\n",
       "Name: count, dtype: int64"
      ]
     },
     "execution_count": 8,
     "metadata": {},
     "output_type": "execute_result"
    }
   ],
   "source": [
    "products = pd.read_csv('../Datasets/products.csv')\n",
    "\n",
    "products[['brand', 'model', 'series']] = products['product_name'].str.split(' ', expand=True)\n",
    "\n",
    "products['model'].value_counts()"
   ]
  },
  {
   "cell_type": "markdown",
   "id": "343793de",
   "metadata": {},
   "source": [
    "**Computing Attribute score**\n",
    "\n",
    "Here, I will define a custom attribute score solely based on my idea, later on it we found this formulation is not suitable, please feel free to change it.\n",
    "The formula for Attribute Score: 0.5 * (same category) + 0.15 * (same brand) + 0.15 * (same models) + 0.2 * (price after MinMaxScaler)"
   ]
  },
  {
   "cell_type": "code",
   "execution_count": null,
   "id": "331fbfeb",
   "metadata": {},
   "outputs": [
    {
     "data": {
      "text/html": [
       "<div>\n",
       "<style scoped>\n",
       "    .dataframe tbody tr th:only-of-type {\n",
       "        vertical-align: middle;\n",
       "    }\n",
       "\n",
       "    .dataframe tbody tr th {\n",
       "        vertical-align: top;\n",
       "    }\n",
       "\n",
       "    .dataframe thead th {\n",
       "        text-align: right;\n",
       "    }\n",
       "</style>\n",
       "<table border=\"1\" class=\"dataframe\">\n",
       "  <thead>\n",
       "    <tr style=\"text-align: right;\">\n",
       "      <th></th>\n",
       "      <th>ProductID1</th>\n",
       "      <th>ProductID2</th>\n",
       "      <th>AttributeScore</th>\n",
       "    </tr>\n",
       "  </thead>\n",
       "  <tbody>\n",
       "    <tr>\n",
       "      <th>0</th>\n",
       "      <td>P1000</td>\n",
       "      <td>P1001</td>\n",
       "      <td>0.666647</td>\n",
       "    </tr>\n",
       "    <tr>\n",
       "      <th>1</th>\n",
       "      <td>P1000</td>\n",
       "      <td>P1002</td>\n",
       "      <td>0.752407</td>\n",
       "    </tr>\n",
       "    <tr>\n",
       "      <th>2</th>\n",
       "      <td>P1000</td>\n",
       "      <td>P1003</td>\n",
       "      <td>0.681488</td>\n",
       "    </tr>\n",
       "    <tr>\n",
       "      <th>3</th>\n",
       "      <td>P1000</td>\n",
       "      <td>P1004</td>\n",
       "      <td>0.680524</td>\n",
       "    </tr>\n",
       "    <tr>\n",
       "      <th>4</th>\n",
       "      <td>P1000</td>\n",
       "      <td>P1005</td>\n",
       "      <td>0.730715</td>\n",
       "    </tr>\n",
       "  </tbody>\n",
       "</table>\n",
       "</div>"
      ],
      "text/plain": [
       "  ProductID1 ProductID2  AttributeScore\n",
       "0      P1000      P1001        0.666647\n",
       "1      P1000      P1002        0.752407\n",
       "2      P1000      P1003        0.681488\n",
       "3      P1000      P1004        0.680524\n",
       "4      P1000      P1005        0.730715"
      ]
     },
     "execution_count": 11,
     "metadata": {},
     "output_type": "execute_result"
    }
   ],
   "source": [
    "scaler = MinMaxScaler()\n",
    "\n",
    "products['scaled_price'] = scaler.fit_transform(products[['price']])\n",
    "\n",
    "def attribute_score(row1, row2):\n",
    "    score = 0\n",
    "    score += 0.5 if row1['category'] == row2['category'] else 0\n",
    "    score += 0.15 if row1['brand'] == row2['brand'] else 0\n",
    "    score += 0.15 if row1['model'] == row2['model'] else 0\n",
    "    score += 0.2 * abs(row1['scaled_price'] - row2['scaled_price'])\n",
    "    return score\n",
    "\n",
    "# Generate all pairs\n",
    "pairs = list(itertools.combinations(products.index, 2))\n",
    "\n",
    "data = []\n",
    "for i, j in pairs:\n",
    "    row1 = products.loc[i]\n",
    "    row2 = products.loc[j]\n",
    "    score = attribute_score(row1, row2)\n",
    "    data.append({\n",
    "        'ProductID1': row1['product_id'],\n",
    "        'ProductID2': row2['product_id'],\n",
    "        'AttributeScore': score\n",
    "    })\n",
    "\n",
    "attribute_df = pd.DataFrame(data)\n",
    "attribute_df.to_csv('../Datasets/ProductAttributeScores.csv', index=False)\n",
    "attribute_df.head()"
   ]
  }
 ],
 "metadata": {
  "kernelspec": {
   "display_name": "base",
   "language": "python",
   "name": "python3"
  },
  "language_info": {
   "codemirror_mode": {
    "name": "ipython",
    "version": 3
   },
   "file_extension": ".py",
   "mimetype": "text/x-python",
   "name": "python",
   "nbconvert_exporter": "python",
   "pygments_lexer": "ipython3",
   "version": "3.12.7"
  }
 },
 "nbformat": 4,
 "nbformat_minor": 5
}
