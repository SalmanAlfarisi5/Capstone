{
 "cells": [
  {
   "cell_type": "markdown",
   "id": "4d014b95",
   "metadata": {},
   "source": [
    "### Preparation"
   ]
  },
  {
   "cell_type": "markdown",
   "id": "48159ba8",
   "metadata": {},
   "source": [
    "Import Libraries"
   ]
  },
  {
   "cell_type": "code",
   "execution_count": 76,
   "id": "2ab3f6a8",
   "metadata": {},
   "outputs": [],
   "source": [
    "import pandas as pd\n",
    "from itertools import combinations"
   ]
  },
  {
   "cell_type": "markdown",
   "id": "e56dce35",
   "metadata": {},
   "source": [
    "Read data"
   ]
  },
  {
   "cell_type": "code",
   "execution_count": 77,
   "id": "5bb05e0e",
   "metadata": {},
   "outputs": [],
   "source": [
    "products = pd.read_csv('../NewData/products.csv')"
   ]
  },
  {
   "cell_type": "markdown",
   "id": "c09ec8ac",
   "metadata": {},
   "source": [
    "Check data distrbution"
   ]
  },
  {
   "cell_type": "code",
   "execution_count": 78,
   "id": "6d262073",
   "metadata": {},
   "outputs": [
    {
     "data": {
      "text/plain": [
       "category\n",
       "Batteries         43\n",
       "Oil               35\n",
       "Spare Parts       31\n",
       "Accessories       31\n",
       "Tires             31\n",
       "Shock Absorber    29\n",
       "Name: count, dtype: int64"
      ]
     },
     "execution_count": 78,
     "metadata": {},
     "output_type": "execute_result"
    }
   ],
   "source": [
    "products['category'].value_counts()"
   ]
  },
  {
   "cell_type": "code",
   "execution_count": 79,
   "id": "26b9b961",
   "metadata": {},
   "outputs": [
    {
     "data": {
      "text/plain": [
       "grade\n",
       "Economy     74\n",
       "Premium     64\n",
       "Standard    62\n",
       "Name: count, dtype: int64"
      ]
     },
     "execution_count": 79,
     "metadata": {},
     "output_type": "execute_result"
    }
   ],
   "source": [
    "products['grade'].value_counts()"
   ]
  },
  {
   "cell_type": "code",
   "execution_count": 80,
   "id": "f11b220a",
   "metadata": {},
   "outputs": [
    {
     "data": {
      "text/plain": [
       "material\n",
       "Steel               28\n",
       "Lithium             23\n",
       "Lead Acid           20\n",
       "Synthetic Oil       20\n",
       "Synthetic Rubber    19\n",
       "Composite           18\n",
       "Alloy               16\n",
       "Aluminum            16\n",
       "Mineral Oil         15\n",
       "Plastic             13\n",
       "Rubber              12\n",
       "Name: count, dtype: int64"
      ]
     },
     "execution_count": 80,
     "metadata": {},
     "output_type": "execute_result"
    }
   ],
   "source": [
    "products['material'].value_counts()"
   ]
  },
  {
   "cell_type": "code",
   "execution_count": 81,
   "id": "a615f010",
   "metadata": {},
   "outputs": [
    {
     "data": {
      "text/plain": [
       "brand\n",
       "DriveWell    48\n",
       "SpeedLine    42\n",
       "TorqueX      42\n",
       "AutoMax      41\n",
       "GearPro      27\n",
       "Name: count, dtype: int64"
      ]
     },
     "execution_count": 81,
     "metadata": {},
     "output_type": "execute_result"
    }
   ],
   "source": [
    "products['brand'].value_counts()"
   ]
  },
  {
   "cell_type": "code",
   "execution_count": 82,
   "id": "ff284c19",
   "metadata": {},
   "outputs": [
    {
     "data": {
      "text/plain": [
       "vehicle_type\n",
       "MPV          48\n",
       "Crossover    43\n",
       "SUV          38\n",
       "Hatchback    36\n",
       "Sedan        35\n",
       "Name: count, dtype: int64"
      ]
     },
     "execution_count": 82,
     "metadata": {},
     "output_type": "execute_result"
    }
   ],
   "source": [
    "products['vehicle_type'].value_counts()"
   ]
  },
  {
   "cell_type": "code",
   "execution_count": 83,
   "id": "70386546",
   "metadata": {},
   "outputs": [
    {
     "data": {
      "text/plain": [
       "compatible_vehicle_count\n",
       "2    108\n",
       "1     92\n",
       "Name: count, dtype: int64"
      ]
     },
     "execution_count": 83,
     "metadata": {},
     "output_type": "execute_result"
    }
   ],
   "source": [
    "products['compatible_vehicle'] = products['compatible_vehicle'].apply(lambda x: x.split(',') if isinstance(x, str) else x)\n",
    "products['compatible_vehicle_count'] = products['compatible_vehicle'].apply(lambda x: len(x) if isinstance(x, list) else 0)\n",
    "products['compatible_vehicle_count'].value_counts()"
   ]
  },
  {
   "cell_type": "code",
   "execution_count": 84,
   "id": "b4b89cd0",
   "metadata": {},
   "outputs": [
    {
     "data": {
      "text/plain": [
       "count    200.000000\n",
       "mean     263.978800\n",
       "std      137.498935\n",
       "min       16.200000\n",
       "25%      152.960000\n",
       "50%      258.690000\n",
       "75%      385.070000\n",
       "max      498.630000\n",
       "Name: unit_price, dtype: float64"
      ]
     },
     "execution_count": 84,
     "metadata": {},
     "output_type": "execute_result"
    }
   ],
   "source": [
    "products['unit_price'].describe()"
   ]
  },
  {
   "cell_type": "markdown",
   "id": "aaa7e71e",
   "metadata": {},
   "source": [
    "### Compute Attribute Score"
   ]
  },
  {
   "cell_type": "markdown",
   "id": "4bc0f325",
   "metadata": {},
   "source": [
    "The attribute score between two product A and product B is defined as follows:\n",
    "\n",
    "attribute score = (0.5  * {category A == category B}) + (0.05 * {grade A == grade B}) + (0.05 * {material A == material B}) +  (0.15 * {vehicle_type A == vehicle_type B}) + (0.15 * {there is intersection between compatible_vehicle A and B}) + (0.1 * {Difference price between product A and product B standardized into range [0, 1]})"
   ]
  },
  {
   "cell_type": "code",
   "execution_count": 85,
   "id": "ce66c38a",
   "metadata": {},
   "outputs": [
    {
     "data": {
      "text/html": [
       "<div>\n",
       "<style scoped>\n",
       "    .dataframe tbody tr th:only-of-type {\n",
       "        vertical-align: middle;\n",
       "    }\n",
       "\n",
       "    .dataframe tbody tr th {\n",
       "        vertical-align: top;\n",
       "    }\n",
       "\n",
       "    .dataframe thead th {\n",
       "        text-align: right;\n",
       "    }\n",
       "</style>\n",
       "<table border=\"1\" class=\"dataframe\">\n",
       "  <thead>\n",
       "    <tr style=\"text-align: right;\">\n",
       "      <th></th>\n",
       "      <th>product_id</th>\n",
       "      <th>product_name</th>\n",
       "      <th>category</th>\n",
       "      <th>grade</th>\n",
       "      <th>material</th>\n",
       "      <th>brand</th>\n",
       "      <th>vehicle_type</th>\n",
       "      <th>compatible_vehicle</th>\n",
       "      <th>unit_price</th>\n",
       "      <th>compatible_vehicle_count</th>\n",
       "    </tr>\n",
       "  </thead>\n",
       "  <tbody>\n",
       "    <tr>\n",
       "      <th>0</th>\n",
       "      <td>P0111</td>\n",
       "      <td>AutoMax Shock Absorber 159</td>\n",
       "      <td>Shock Absorber</td>\n",
       "      <td>Economy</td>\n",
       "      <td>Alloy</td>\n",
       "      <td>AutoMax</td>\n",
       "      <td>Crossover</td>\n",
       "      <td>[Honda HR-V]</td>\n",
       "      <td>236.55</td>\n",
       "      <td>1</td>\n",
       "    </tr>\n",
       "    <tr>\n",
       "      <th>1</th>\n",
       "      <td>P0014</td>\n",
       "      <td>AutoMax Shock Absorber 316</td>\n",
       "      <td>Shock Absorber</td>\n",
       "      <td>Premium</td>\n",
       "      <td>Alloy</td>\n",
       "      <td>AutoMax</td>\n",
       "      <td>Sedan</td>\n",
       "      <td>[Honda Civic,  Hyundai Elantra]</td>\n",
       "      <td>114.15</td>\n",
       "      <td>2</td>\n",
       "    </tr>\n",
       "    <tr>\n",
       "      <th>2</th>\n",
       "      <td>P0017</td>\n",
       "      <td>AutoMax Shock Absorber 396</td>\n",
       "      <td>Shock Absorber</td>\n",
       "      <td>Economy</td>\n",
       "      <td>Alloy</td>\n",
       "      <td>AutoMax</td>\n",
       "      <td>Hatchback</td>\n",
       "      <td>[Mazda 2,  Suzuki Swift]</td>\n",
       "      <td>325.47</td>\n",
       "      <td>2</td>\n",
       "    </tr>\n",
       "    <tr>\n",
       "      <th>3</th>\n",
       "      <td>P0149</td>\n",
       "      <td>AutoMax Shock Absorber 711</td>\n",
       "      <td>Shock Absorber</td>\n",
       "      <td>Premium</td>\n",
       "      <td>Alloy</td>\n",
       "      <td>AutoMax</td>\n",
       "      <td>SUV</td>\n",
       "      <td>[Honda CR-V]</td>\n",
       "      <td>283.80</td>\n",
       "      <td>1</td>\n",
       "    </tr>\n",
       "    <tr>\n",
       "      <th>4</th>\n",
       "      <td>P0100</td>\n",
       "      <td>AutoMax Shock Absorber 756</td>\n",
       "      <td>Shock Absorber</td>\n",
       "      <td>Economy</td>\n",
       "      <td>Alloy</td>\n",
       "      <td>AutoMax</td>\n",
       "      <td>SUV</td>\n",
       "      <td>[Toyota Rush,  Daihatsu Terios]</td>\n",
       "      <td>153.01</td>\n",
       "      <td>2</td>\n",
       "    </tr>\n",
       "  </tbody>\n",
       "</table>\n",
       "</div>"
      ],
      "text/plain": [
       "  product_id                product_name        category    grade material  \\\n",
       "0      P0111  AutoMax Shock Absorber 159  Shock Absorber  Economy    Alloy   \n",
       "1      P0014  AutoMax Shock Absorber 316  Shock Absorber  Premium    Alloy   \n",
       "2      P0017  AutoMax Shock Absorber 396  Shock Absorber  Economy    Alloy   \n",
       "3      P0149  AutoMax Shock Absorber 711  Shock Absorber  Premium    Alloy   \n",
       "4      P0100  AutoMax Shock Absorber 756  Shock Absorber  Economy    Alloy   \n",
       "\n",
       "     brand vehicle_type               compatible_vehicle  unit_price  \\\n",
       "0  AutoMax    Crossover                     [Honda HR-V]      236.55   \n",
       "1  AutoMax        Sedan  [Honda Civic,  Hyundai Elantra]      114.15   \n",
       "2  AutoMax    Hatchback         [Mazda 2,  Suzuki Swift]      325.47   \n",
       "3  AutoMax          SUV                     [Honda CR-V]      283.80   \n",
       "4  AutoMax          SUV  [Toyota Rush,  Daihatsu Terios]      153.01   \n",
       "\n",
       "   compatible_vehicle_count  \n",
       "0                         1  \n",
       "1                         2  \n",
       "2                         2  \n",
       "3                         1  \n",
       "4                         2  "
      ]
     },
     "execution_count": 85,
     "metadata": {},
     "output_type": "execute_result"
    }
   ],
   "source": [
    "products.head()"
   ]
  },
  {
   "cell_type": "code",
   "execution_count": 86,
   "id": "86b18208",
   "metadata": {},
   "outputs": [],
   "source": [
    "def compute_attribute_score(product_a, product_b, min_price, max_price):\n",
    "    # Category\n",
    "    category_score = 0.5 if product_a['category'] == product_b['category'] else 0.0\n",
    "    # Grade\n",
    "    grade_score = 0.05 if product_a['grade'] == product_b['grade'] else 0.0\n",
    "    # Material\n",
    "    material_score = 0.05 if product_a['material'] == product_b['material'] else 0.0\n",
    "    # Vehicle Type\n",
    "    vehicle_type_score = 0.15 if product_a['vehicle_type'] == product_b['vehicle_type'] else 0.0\n",
    "    # Compatible Vehicle Intersection\n",
    "    vehicles_a = [v.strip() for v in product_a['compatible_vehicle']] if isinstance(product_a['compatible_vehicle'], list) else []\n",
    "    vehicles_b = [v.strip() for v in product_b['compatible_vehicle']] if isinstance(product_b['compatible_vehicle'], list) else []\n",
    "    intersection_score = 0.15 if set(vehicles_a) & set(vehicles_b) else 0.0\n",
    "    # Price Difference (standardized)\n",
    "    price_diff = abs(product_a['unit_price'] - product_b['unit_price'])\n",
    "    price_score = 0.1 * (1 - (price_diff / (max_price - min_price))) if max_price > min_price else 0.0\n",
    "\n",
    "    return category_score + grade_score + material_score + vehicle_type_score + intersection_score + price_score"
   ]
  },
  {
   "cell_type": "code",
   "execution_count": 87,
   "id": "5242bea2",
   "metadata": {},
   "outputs": [
    {
     "data": {
      "text/html": [
       "<div>\n",
       "<style scoped>\n",
       "    .dataframe tbody tr th:only-of-type {\n",
       "        vertical-align: middle;\n",
       "    }\n",
       "\n",
       "    .dataframe tbody tr th {\n",
       "        vertical-align: top;\n",
       "    }\n",
       "\n",
       "    .dataframe thead th {\n",
       "        text-align: right;\n",
       "    }\n",
       "</style>\n",
       "<table border=\"1\" class=\"dataframe\">\n",
       "  <thead>\n",
       "    <tr style=\"text-align: right;\">\n",
       "      <th></th>\n",
       "      <th>productid_1</th>\n",
       "      <th>productid_2</th>\n",
       "      <th>attribute_score</th>\n",
       "    </tr>\n",
       "  </thead>\n",
       "  <tbody>\n",
       "    <tr>\n",
       "      <th>0</th>\n",
       "      <td>P0001</td>\n",
       "      <td>P0002</td>\n",
       "      <td>0.073209</td>\n",
       "    </tr>\n",
       "    <tr>\n",
       "      <th>1</th>\n",
       "      <td>P0001</td>\n",
       "      <td>P0003</td>\n",
       "      <td>0.064998</td>\n",
       "    </tr>\n",
       "    <tr>\n",
       "      <th>2</th>\n",
       "      <td>P0001</td>\n",
       "      <td>P0004</td>\n",
       "      <td>0.086591</td>\n",
       "    </tr>\n",
       "    <tr>\n",
       "      <th>3</th>\n",
       "      <td>P0001</td>\n",
       "      <td>P0006</td>\n",
       "      <td>0.447235</td>\n",
       "    </tr>\n",
       "    <tr>\n",
       "      <th>4</th>\n",
       "      <td>P0001</td>\n",
       "      <td>P0010</td>\n",
       "      <td>0.073405</td>\n",
       "    </tr>\n",
       "  </tbody>\n",
       "</table>\n",
       "</div>"
      ],
      "text/plain": [
       "  productid_1 productid_2  attribute_score\n",
       "0       P0001       P0002         0.073209\n",
       "1       P0001       P0003         0.064998\n",
       "2       P0001       P0004         0.086591\n",
       "3       P0001       P0006         0.447235\n",
       "4       P0001       P0010         0.073405"
      ]
     },
     "execution_count": 87,
     "metadata": {},
     "output_type": "execute_result"
    }
   ],
   "source": [
    "# Generate attribute scores for all product pairs\n",
    "pairs = list(combinations(products.index, 2))\n",
    "min_price = products['unit_price'].min()\n",
    "max_price = products['unit_price'].max()\n",
    "\n",
    "results = []\n",
    "for idx1, idx2 in pairs:\n",
    "    prod1 = products.loc[idx1]\n",
    "    prod2 = products.loc[idx2]\n",
    "    score = compute_attribute_score(prod1, prod2, min_price, max_price)\n",
    "    results.append({\n",
    "        'productid_1': prod1['product_id'],\n",
    "        'productid_2': prod2['product_id'],\n",
    "        'attribute_score': score\n",
    "    })\n",
    "    \n",
    "results.sort(key=lambda x: (x['productid_1'], x['productid_2']))\n",
    "attribute_scores_df = pd.DataFrame(results)\n",
    "attribute_scores_df.head()"
   ]
  },
  {
   "cell_type": "code",
   "execution_count": 88,
   "id": "f041fbcd",
   "metadata": {},
   "outputs": [],
   "source": [
    "attribute_scores_df.to_csv('../NewData/attribute_scores.csv', index=False)"
   ]
  }
 ],
 "metadata": {
  "kernelspec": {
   "display_name": "base",
   "language": "python",
   "name": "python3"
  },
  "language_info": {
   "codemirror_mode": {
    "name": "ipython",
    "version": 3
   },
   "file_extension": ".py",
   "mimetype": "text/x-python",
   "name": "python",
   "nbconvert_exporter": "python",
   "pygments_lexer": "ipython3",
   "version": "3.12.7"
  }
 },
 "nbformat": 4,
 "nbformat_minor": 5
}
