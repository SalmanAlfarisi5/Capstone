{
 "cells": [
  {
   "cell_type": "code",
   "execution_count": 24,
   "id": "979fdb71",
   "metadata": {},
   "outputs": [
    {
     "name": "stdout",
     "output_type": "stream",
     "text": [
      "(19900, 5)\n",
      "      p1     p2  attribute_score  transaction_score  substitution_score\n",
      "0  P0001  P0002         0.073209           0.397706            0.203007\n",
      "1  P0001  P0003         0.064998           0.730883            0.331352\n",
      "2  P0001  P0004         0.086591           0.742388            0.348910\n",
      "3  P0001  P0006         0.447235           0.395690            0.426617\n",
      "4  P0001  P0010         0.073405           0.764077            0.349674\n"
     ]
    }
   ],
   "source": [
    "import pandas as pd\n",
    "import numpy as np\n",
    "\n",
    "# ---- helpers ----\n",
    "def canonicalize_pairs(df, a='productid_1', b='productid_2'):\n",
    "    df = df.copy()\n",
    "    # ensure strings & strip whitespace\n",
    "    df[a] = df[a].astype(str).str.strip()\n",
    "    df[b] = df[b].astype(str).str.strip()\n",
    "    # canonical order so (A,B) == (B,A)\n",
    "    ij = np.sort(df[[a, b]].values, axis=1)\n",
    "    df['p1'] = ij[:, 0]\n",
    "    df['p2'] = ij[:, 1]\n",
    "    return df\n",
    "\n",
    "# ---- load ----\n",
    "attribute   = pd.read_csv('../NewData/attribute_scores.csv')   # cols: productid_1, productid_2, attribute_score\n",
    "transaction = pd.read_csv('../NewData/transaction_scores.csv')   # cols: productid_1, productid_2, transaction_score\n",
    "\n",
    "# ---- canonicalize & dedupe ----\n",
    "attr_c = canonicalize_pairs(attribute).drop_duplicates(['p1','p2'])\n",
    "txn_c  = canonicalize_pairs(transaction).drop_duplicates(['p1','p2'])\n",
    "\n",
    "# ---- merge (keep all attribute rows) ----\n",
    "final_df = (attr_c[['p1','p2','attribute_score']]\n",
    "            .merge(txn_c[['p1','p2','transaction_score']], on=['p1','p2'], how='left'))\n",
    "\n",
    "# ---- substitution score ----\n",
    "final_df['attribute_score']   = final_df['attribute_score'].astype(float)\n",
    "final_df['transaction_score'] = final_df['transaction_score'].astype(float)\n",
    "\n",
    "final_df['substitution_score'] = (\n",
    "    0.6 * final_df['attribute_score'].fillna(0.0) +\n",
    "    0.4 * final_df['transaction_score'].fillna(0.0)\n",
    ").clip(0, 1)\n",
    "\n",
    "print(final_df.shape)\n",
    "print(final_df.head())\n",
    "\n",
    "final_df.to_csv('../NewData/final_substitution_scores.csv', index=False)\n"
   ]
  }
 ],
 "metadata": {
  "kernelspec": {
   "display_name": "base",
   "language": "python",
   "name": "python3"
  },
  "language_info": {
   "codemirror_mode": {
    "name": "ipython",
    "version": 3
   },
   "file_extension": ".py",
   "mimetype": "text/x-python",
   "name": "python",
   "nbconvert_exporter": "python",
   "pygments_lexer": "ipython3",
   "version": "3.12.7"
  }
 },
 "nbformat": 4,
 "nbformat_minor": 5
}
