{
 "cells": [
  {
   "cell_type": "markdown",
   "id": "8188bb88",
   "metadata": {},
   "source": [
    "### Preparation"
   ]
  },
  {
   "cell_type": "markdown",
   "id": "b9163611",
   "metadata": {},
   "source": [
    "Import libraries"
   ]
  },
  {
   "cell_type": "code",
   "execution_count": 7,
   "id": "d9999f8f",
   "metadata": {},
   "outputs": [],
   "source": [
    "import pandas as pd\n",
    "import numpy as np\n",
    "from itertools import combinations"
   ]
  },
  {
   "cell_type": "markdown",
   "id": "cab13e8e",
   "metadata": {},
   "source": [
    "Read dataset"
   ]
  },
  {
   "cell_type": "code",
   "execution_count": 2,
   "id": "7b10c9da",
   "metadata": {},
   "outputs": [],
   "source": [
    "products = pd.read_csv('../NewData/products.csv')\n",
    "transactions = pd.read_csv('../NewData/sales_transactions.csv')"
   ]
  },
  {
   "cell_type": "markdown",
   "id": "08b4ef34",
   "metadata": {},
   "source": [
    "### Calculate Transaction Score"
   ]
  },
  {
   "cell_type": "markdown",
   "id": "b327857e",
   "metadata": {},
   "source": [
    "Calculate Lift (Association Rule)"
   ]
  },
  {
   "cell_type": "code",
   "execution_count": 3,
   "id": "682ff9e3",
   "metadata": {},
   "outputs": [],
   "source": [
    "# Group products by transaction_id to create baskets\n",
    "baskets = transactions.groupby('transaction_id')['product_id'].apply(set)\n",
    "\n",
    "# Get all unique products\n",
    "products = set(transactions['product_id'])\n",
    "\n",
    "# Calculate total number of transactions\n",
    "num_transactions = len(baskets)\n",
    "\n",
    "# Precompute support for each product\n",
    "product_support = {p: sum([p in basket for basket in baskets]) / num_transactions for p in products}\n",
    "\n",
    "# Calculate lift for each product pair\n",
    "lift_results = []\n",
    "for p1 in products:\n",
    "    for p2 in products:\n",
    "        if p1 >= p2:  # Avoid duplicate pairs and self-pairs\n",
    "            continue\n",
    "        # Support for both products together\n",
    "        support_both = sum([(p1 in basket) and (p2 in basket) for basket in baskets]) / num_transactions\n",
    "        # Calculate lift\n",
    "        if product_support[p1] > 0 and product_support[p2] > 0:\n",
    "            lift = support_both / (product_support[p1] * product_support[p2])\n",
    "            lift_results.append((p1, p2, lift))\n",
    "        else:\n",
    "            lift_results.append((p1, p2, -1))"
   ]
  },
  {
   "cell_type": "markdown",
   "id": "924017e3",
   "metadata": {},
   "source": [
    "Calculate Yule's Q"
   ]
  },
  {
   "cell_type": "code",
   "execution_count": 4,
   "id": "07701009",
   "metadata": {},
   "outputs": [],
   "source": [
    "yule_results = []\n",
    "for p1 in products:\n",
    "    for p2 in products:\n",
    "        if p1 >= p2:  # Avoid duplicate pairs and self-pairs\n",
    "            continue\n",
    "        a = sum([(p1 in basket) and (p2 in basket) for basket in baskets])\n",
    "        b = sum([(p1 in basket) and (p2 not in basket) for basket in baskets])\n",
    "        c = sum([(p1 not in basket) and (p2 in basket) for basket in baskets])\n",
    "        d = sum([(p1 not in basket) and (p2 not in basket) for basket in baskets])\n",
    "        denominator = a * d + b * c\n",
    "        if denominator == 0:\n",
    "            q = None\n",
    "        else:\n",
    "            q = (a * d - b * c) / denominator\n",
    "        yule_results.append((p1, p2, q))"
   ]
  },
  {
   "cell_type": "markdown",
   "id": "d36de648",
   "metadata": {},
   "source": [
    "Calculate Correlation"
   ]
  },
  {
   "cell_type": "code",
   "execution_count": 8,
   "id": "22e5ee14",
   "metadata": {},
   "outputs": [],
   "source": [
    "correlation_results = []\n",
    "\n",
    "product_list = sorted(list(products))   # deterministic order\n",
    "m = len(product_list)\n",
    "\n",
    "# Transaction × Product incidence matrix (0/1)\n",
    "X = pd.DataFrame(0, index=baskets.index, columns=product_list, dtype=int)\n",
    "for t_id, items in baskets.items():\n",
    "    if items:  # guard in case of empty basket\n",
    "        X.loc[t_id, list(items)] = 1\n",
    "\n",
    "# Product × Product co-occurrence counts\n",
    "N = X.T.dot(X)  # DataFrame with index/cols = product_list\n",
    "\n",
    "# Row means μ_i over k ≠ i\n",
    "diag = N.to_numpy().diagonal()\n",
    "mu = (N.sum(axis=1) - diag) / max(m - 1, 1)\n",
    "\n",
    "# Center rows by μ_i\n",
    "C = N.sub(mu, axis=0)\n",
    "\n",
    "# ρ_ij = sum_{k≠i,j}(n_ik-μ_i)(n_jk-μ_j) / sqrt( sum_{k≠i}(n_ik-μ_i)^2 * sum_{k≠j}(n_jk-μ_j)^2 )\n",
    "for i in range(m):\n",
    "    for j in range(i + 1, m):\n",
    "        pi, pj = product_list[i], product_list[j]\n",
    "\n",
    "        # Numerator excludes i and j\n",
    "        ci = C.loc[pi].drop(index=[pi, pj], errors='ignore')\n",
    "        cj = C.loc[pj].drop(index=[pi, pj], errors='ignore')\n",
    "        numerator = float((ci * cj).sum())\n",
    "\n",
    "        # Denominator excludes i for row i, and j for row j\n",
    "        si = float((C.loc[pi].drop(index=pi) ** 2).sum())\n",
    "        sj = float((C.loc[pj].drop(index=pj) ** 2).sum())\n",
    "        denominator = (si * sj) ** 0.5\n",
    "\n",
    "        corr = (numerator / denominator) if denominator > 0 else None\n",
    "        correlation_results.append((pi, pj, corr))"
   ]
  },
  {
   "cell_type": "code",
   "execution_count": 13,
   "id": "c475c9c8",
   "metadata": {},
   "outputs": [],
   "source": [
    "# Helper to wrap lists -> DataFrames\n",
    "def to_df(lst, col):\n",
    "    return pd.DataFrame(lst, columns=[\"p1\", \"p2\", col])\n",
    "\n",
    "# Combine all three metrics by product pair\n",
    "scores = (\n",
    "    to_df(lift_results, \"lift\")\n",
    "    .merge(to_df(yule_results, \"yule_q\"), on=[\"p1\", \"p2\"], how=\"outer\")\n",
    "    .merge(to_df(correlation_results, \"rho\"), on=[\"p1\", \"p2\"], how=\"outer\")\n",
    ")\n",
    "\n",
    "# --- Map each metric to substitutability in [0,1] ---\n",
    "# Lift: lower lift ⇒ more substitutable → 1/(1+lift)\n",
    "def lift_to_sub(x):\n",
    "    if x is None or pd.isna(x) or x <= 0:\n",
    "        return np.nan\n",
    "    return 1.0 / (1.0 + float(x))\n",
    "\n",
    "# Yule's Q: negative ⇒ more substitutable → (1 - q)/2\n",
    "# ρ (correlation of common purchases): higher ⇒ more substitutable → (ρ + 1)/2\n",
    "scores[\"lift_sub\"] = scores[\"lift\"].apply(lift_to_sub)\n",
    "scores[\"yule_sub\"] = ((1 - scores[\"yule_q\"]) / 2).where(scores[\"yule_q\"].notna())\n",
    "scores[\"rho_sub\"]  = ((scores[\"rho\"] + 1) / 2).where(scores[\"rho\"].notna())\n",
    "\n",
    "# Keep within bounds\n",
    "scores[[\"lift_sub\", \"yule_sub\", \"rho_sub\"]] = scores[[\"lift_sub\", \"yule_sub\", \"rho_sub\"]].clip(0, 1)\n",
    "\n",
    "# --- Final transaction score: mean of available signals (skip NaNs) ---\n",
    "scores[\"transaction_score\"] = scores[[\"lift_sub\", \"yule_sub\", \"rho_sub\"]].mean(axis=1, skipna=True)\n",
    "\n",
    "# Optional: if all three are NaN for a pair, set a neutral default (e.g., 0.5)\n",
    "scores[\"transaction_score\"] = scores[\"transaction_score\"].fillna(0.5)\n",
    "\n",
    "# If you want a list[(p1, p2, score)]:\n",
    "transaction_scores = list(scores[[\"p1\", \"p2\", \"transaction_score\"]].itertuples(index=False, name=None))\n"
   ]
  },
  {
   "cell_type": "code",
   "execution_count": 18,
   "id": "9e74e160",
   "metadata": {},
   "outputs": [
    {
     "name": "stdout",
     "output_type": "stream",
     "text": [
      "  productid_1 productid_2  transaction_score\n",
      "0       P0001       P0002           0.397706\n",
      "1       P0001       P0003           0.730883\n",
      "2       P0001       P0004           0.742388\n",
      "3       P0001       P0005           0.763156\n",
      "4       P0001       P0006           0.395690\n"
     ]
    }
   ],
   "source": [
    "transaction_scores_df = pd.DataFrame(transaction_scores, columns=['productid_1', 'productid_2', 'transaction_score'])\n",
    "print(transaction_scores_df.head())\n",
    "transaction_scores_df.to_csv('../NewData/transaction_scores.csv', index=False)"
   ]
  }
 ],
 "metadata": {
  "kernelspec": {
   "display_name": "base",
   "language": "python",
   "name": "python3"
  },
  "language_info": {
   "codemirror_mode": {
    "name": "ipython",
    "version": 3
   },
   "file_extension": ".py",
   "mimetype": "text/x-python",
   "name": "python",
   "nbconvert_exporter": "python",
   "pygments_lexer": "ipython3",
   "version": "3.12.7"
  }
 },
 "nbformat": 4,
 "nbformat_minor": 5
}
