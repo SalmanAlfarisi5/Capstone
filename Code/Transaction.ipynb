{
 "cells": [
  {
   "cell_type": "markdown",
   "id": "51e35edc",
   "metadata": {},
   "source": [
    "Import necessary libraries"
   ]
  },
  {
   "cell_type": "code",
   "execution_count": 1,
   "id": "7fa85e6b",
   "metadata": {},
   "outputs": [],
   "source": [
    "import pandas as pd\n",
    "import numpy as np\n",
    "import itertools"
   ]
  },
  {
   "cell_type": "markdown",
   "id": "27598c42",
   "metadata": {},
   "source": [
    "Read datasets"
   ]
  },
  {
   "cell_type": "code",
   "execution_count": 2,
   "id": "02cc792d",
   "metadata": {},
   "outputs": [],
   "source": [
    "transaction = pd.read_csv('../Datasets/sales_transaction_items.csv')\n",
    "product = pd.read_csv('../Datasets/products.csv')"
   ]
  },
  {
   "cell_type": "markdown",
   "id": "2de581f6",
   "metadata": {},
   "source": [
    "Calculate Lift (Apriori Association)"
   ]
  },
  {
   "cell_type": "code",
   "execution_count": 3,
   "id": "a562192b",
   "metadata": {},
   "outputs": [],
   "source": [
    "# Group products by transaction_id to create baskets\n",
    "baskets = transaction.groupby('transaction_id')['product_id'].apply(set)\n",
    "\n",
    "# Get all unique products\n",
    "products = set(transaction['product_id'])\n",
    "\n",
    "# Calculate total number of transactions\n",
    "num_transactions = len(baskets)\n",
    "\n",
    "# Precompute support for each product\n",
    "product_support = {p: sum([p in basket for basket in baskets]) / num_transactions for p in products}\n",
    "\n",
    "# Calculate lift for each product pair\n",
    "lift_results = []\n",
    "for p1 in products:\n",
    "    for p2 in products:\n",
    "        if p1 >= p2:  # Avoid duplicate pairs and self-pairs\n",
    "            continue\n",
    "        # Support for both products together\n",
    "        support_both = sum([(p1 in basket) and (p2 in basket) for basket in baskets]) / num_transactions\n",
    "        # Calculate lift\n",
    "        if product_support[p1] > 0 and product_support[p2] > 0:\n",
    "            lift = support_both / (product_support[p1] * product_support[p2])\n",
    "            lift_results.append((p1, p2, lift))\n",
    "        else:\n",
    "            lift_results.append((p1, p2, -1))"
   ]
  },
  {
   "cell_type": "code",
   "execution_count": 4,
   "id": "88f2e1ec",
   "metadata": {},
   "outputs": [],
   "source": [
    "# Calculate Yule's Q for each product pair\n",
    "yule_results = []\n",
    "for p1 in products:\n",
    "    for p2 in products:\n",
    "        if p1 >= p2:  # Avoid duplicate pairs and self-pairs\n",
    "            continue\n",
    "        n11 = sum([(p1 in basket) and (p2 in basket) for basket in baskets])\n",
    "        n10 = sum([(p1 in basket) and (p2 not in basket) for basket in baskets])\n",
    "        n01 = sum([(p1 not in basket) and (p2 in basket) for basket in baskets])\n",
    "        n00 = sum([(p1 not in basket) and (p2 not in basket) for basket in baskets])\n",
    "        denominator = n11 * n00 + n10 * n01\n",
    "        if denominator == 0:\n",
    "            q = None\n",
    "        else:\n",
    "            q = (n11 * n00 - n10 * n01) / denominator\n",
    "        yule_results.append((p1, p2, q))\n"
   ]
  },
  {
   "cell_type": "markdown",
   "id": "2a575906",
   "metadata": {},
   "source": [
    "Combine the results"
   ]
  },
  {
   "cell_type": "code",
   "execution_count": 5,
   "id": "30cdf30a",
   "metadata": {},
   "outputs": [
    {
     "name": "stdout",
     "output_type": "stream",
     "text": [
      "  ProductID1 ProductID2  Lift  YuleQ\n",
      "0      P1097      P1131   0.0   -1.0\n",
      "1      P1097      P1117   0.0   -1.0\n",
      "2      P1097      P1189   0.0   -1.0\n",
      "3      P1097      P1297   0.0   -1.0\n",
      "4      P1097      P1102   0.0   -1.0\n"
     ]
    }
   ],
   "source": [
    "# Combine lift_results and yule_results into a DataFrame and save as ProductTransactionScores.csv\n",
    "combined = []\n",
    "for (p1, p2, lift), (_, _, yuleq) in zip(lift_results, yule_results):\n",
    "    lift = None if lift == -1 else lift\n",
    "    combined.append({'ProductID1': p1, 'ProductID2': p2, 'Lift': lift, 'YuleQ': yuleq})\n",
    "\n",
    "df_combined = pd.DataFrame(combined)\n",
    "df_combined.to_csv('../Datasets/ProductTransactionScores.csv', index=False)\n",
    "print(df_combined.head())"
   ]
  }
 ],
 "metadata": {
  "kernelspec": {
   "display_name": "base",
   "language": "python",
   "name": "python3"
  },
  "language_info": {
   "codemirror_mode": {
    "name": "ipython",
    "version": 3
   },
   "file_extension": ".py",
   "mimetype": "text/x-python",
   "name": "python",
   "nbconvert_exporter": "python",
   "pygments_lexer": "ipython3",
   "version": "3.12.7"
  }
 },
 "nbformat": 4,
 "nbformat_minor": 5
}
