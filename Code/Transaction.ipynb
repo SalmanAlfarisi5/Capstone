{
 "cells": [
  {
   "cell_type": "markdown",
   "id": "51e35edc",
   "metadata": {},
   "source": [
    "Import necessary libraries"
   ]
  },
  {
   "cell_type": "code",
   "execution_count": 24,
   "id": "7fa85e6b",
   "metadata": {},
   "outputs": [],
   "source": [
    "import pandas as pd\n",
    "import numpy as np\n",
    "import os"
   ]
  },
  {
   "cell_type": "markdown",
   "id": "27598c42",
   "metadata": {},
   "source": [
    "Read datasets"
   ]
  },
  {
   "cell_type": "code",
   "execution_count": 18,
   "id": "02cc792d",
   "metadata": {},
   "outputs": [],
   "source": [
    "transaction = pd.read_csv('../Datasets/sales_transaction_items.csv')\n",
    "product = pd.read_csv('../Datasets/products.csv')\n",
    "transaction_details = pd.read_csv('../Datasets/sales_transactions.csv')"
   ]
  },
  {
   "cell_type": "markdown",
   "id": "2de581f6",
   "metadata": {},
   "source": [
    "Calculate Lift (Apriori Association)"
   ]
  },
  {
   "cell_type": "code",
   "execution_count": 3,
   "id": "a562192b",
   "metadata": {},
   "outputs": [],
   "source": [
    "# Group products by transaction_id to create baskets\n",
    "baskets = transaction.groupby('transaction_id')['product_id'].apply(set)\n",
    "\n",
    "# Get all unique products\n",
    "products = set(transaction['product_id'])\n",
    "\n",
    "# Calculate total number of transactions\n",
    "num_transactions = len(baskets)\n",
    "\n",
    "# Precompute support for each product\n",
    "product_support = {p: sum([p in basket for basket in baskets]) / num_transactions for p in products}\n",
    "\n",
    "# Calculate lift for each product pair\n",
    "lift_results = []\n",
    "for p1 in products:\n",
    "    for p2 in products:\n",
    "        if p1 >= p2:  # Avoid duplicate pairs and self-pairs\n",
    "            continue\n",
    "        # Support for both products together\n",
    "        support_both = sum([(p1 in basket) and (p2 in basket) for basket in baskets]) / num_transactions\n",
    "        # Calculate lift\n",
    "        if product_support[p1] > 0 and product_support[p2] > 0:\n",
    "            lift = support_both / (product_support[p1] * product_support[p2])\n",
    "            lift_results.append((p1, p2, lift))\n",
    "        else:\n",
    "            lift_results.append((p1, p2, -1))"
   ]
  },
  {
   "cell_type": "markdown",
   "id": "4af8e9a5",
   "metadata": {},
   "source": [
    "Calculate Yule's Q"
   ]
  },
  {
   "cell_type": "code",
   "execution_count": 4,
   "id": "88f2e1ec",
   "metadata": {},
   "outputs": [],
   "source": [
    "yule_results = []\n",
    "for p1 in products:\n",
    "    for p2 in products:\n",
    "        if p1 >= p2:  # Avoid duplicate pairs and self-pairs\n",
    "            continue\n",
    "        n11 = sum([(p1 in basket) and (p2 in basket) for basket in baskets])\n",
    "        n10 = sum([(p1 in basket) and (p2 not in basket) for basket in baskets])\n",
    "        n01 = sum([(p1 not in basket) and (p2 in basket) for basket in baskets])\n",
    "        n00 = sum([(p1 not in basket) and (p2 not in basket) for basket in baskets])\n",
    "        denominator = n11 * n00 + n10 * n01\n",
    "        if denominator == 0:\n",
    "            q = None\n",
    "        else:\n",
    "            q = (n11 * n00 - n10 * n01) / denominator\n",
    "        yule_results.append((p1, p2, q))"
   ]
  },
  {
   "cell_type": "markdown",
   "id": "2a575906",
   "metadata": {},
   "source": [
    "Combine the results"
   ]
  },
  {
   "cell_type": "code",
   "execution_count": 5,
   "id": "30cdf30a",
   "metadata": {},
   "outputs": [
    {
     "name": "stdout",
     "output_type": "stream",
     "text": [
      "  ProductID1 ProductID2  Lift  YuleQ\n",
      "0      P1055      P1343   0.0   -1.0\n",
      "1      P1055      P1305   0.0   -1.0\n",
      "2      P1055      P1192   0.0   -1.0\n",
      "3      P1055      P1059   0.0   -1.0\n",
      "4      P1055      P1345   0.0   -1.0\n"
     ]
    }
   ],
   "source": [
    "# Combine lift_results and yule_results into a DataFrame and save as ProductTransactionScores.csv\n",
    "combined = []\n",
    "for (p1, p2, lift), (_, _, yuleq) in zip(lift_results, yule_results):\n",
    "    lift = None if lift == -1 else lift\n",
    "    combined.append({'ProductID1': p1, 'ProductID2': p2, 'Lift': lift, 'YuleQ': yuleq})\n",
    "\n",
    "df_combined = pd.DataFrame(combined)\n",
    "df_combined.to_csv('../Datasets/ProductTransactionScores.csv', index=False)\n",
    "print(df_combined.head())"
   ]
  },
  {
   "cell_type": "markdown",
   "id": "5f773894",
   "metadata": {},
   "source": [
    "Aggregate the score for each store"
   ]
  },
  {
   "cell_type": "code",
   "execution_count": 26,
   "id": "c797eb5e",
   "metadata": {},
   "outputs": [],
   "source": [
    "# --- Yule phi coefficient formula ---\n",
    "# φ_ij = (n_ij * n_00 - n_i1 * n_1j) / sqrt(n_i1 * n_1j * n_0i * n_0j)\n",
    "# where:\n",
    "# n_ij: number of baskets containing both i and j\n",
    "# n_i1: number of baskets containing i but not j\n",
    "# n_1j: number of baskets containing j but not i\n",
    "# n_00: number of baskets containing neither i nor j\n",
    "\n",
    "items = transaction\n",
    "txns = transaction_details\n",
    "\n",
    "# Merge to get store_id for each item\n",
    "items = items.merge(txns[[\"transaction_id\", \"store_id\"]], on=\"transaction_id\", how=\"inner\")\n",
    "\n",
    "for store_id, g in items.groupby(\"store_id\"):\n",
    "    baskets = g.groupby(\"transaction_id\")[\"product_id\"].apply(set).tolist()\n",
    "    prods = list(pd.unique(g[\"product_id\"]))\n",
    "    p = len(prods)\n",
    "    if p < 2:\n",
    "        pd.DataFrame(columns=[\"product1\", \"product2\", \"correlation\", \"Yulephi\"]).to_csv(\n",
    "            os.path.join(\"../Datasets/Stores_level\", f\"{store_id}.csv\"), index=False\n",
    "        )\n",
    "        continue\n",
    "\n",
    "    co_matrix = np.zeros((p, p))\n",
    "    prod_to_idx = {prod: idx for idx, prod in enumerate(prods)}\n",
    "    for basket in baskets:\n",
    "        idxs = [prod_to_idx[prod] for prod in basket if prod in prod_to_idx]\n",
    "        for i in idxs:\n",
    "            for j in idxs:\n",
    "                if i != j:\n",
    "                    co_matrix[i, j] += 1\n",
    "\n",
    "    out = []\n",
    "    num_baskets = len(baskets)\n",
    "    for i in range(p-1):\n",
    "        for j in range(i+1, p):\n",
    "            x = co_matrix[i]\n",
    "            y = co_matrix[j]\n",
    "            corr = np.corrcoef(x, y)[0, 1] if np.std(x) > 0 and np.std(y) > 0 else np.nan\n",
    "\n",
    "            # Yule phi calculation\n",
    "            prod_i = prods[i]\n",
    "            prod_j = prods[j]\n",
    "            n_ij = sum([(prod_i in basket) and (prod_j in basket) for basket in baskets])\n",
    "            n_i1 = sum([(prod_i in basket) and (prod_j not in basket) for basket in baskets])\n",
    "            n_1j = sum([(prod_i not in basket) and (prod_j in basket) for basket in baskets])\n",
    "            n_00 = sum([(prod_i not in basket) and (prod_j not in basket) for basket in baskets])\n",
    "            denominator = np.sqrt((n_ij + n_i1) * (n_ij + n_1j) * (n_00 + n_i1) * (n_00 + n_1j))\n",
    "            if denominator == 0:\n",
    "                yulephi = None\n",
    "            else:\n",
    "                yulephi = ((n_ij * n_00) - (n_i1 * n_1j)) / denominator\n",
    "\n",
    "            out.append((prod_i, prod_j, corr, yulephi))\n",
    "\n",
    "    df_out = pd.DataFrame(out, columns=[\"product1\", \"product2\", \"correlation\", \"Yulephi\"])\n",
    "    df_out.to_csv(os.path.join(\"../Datasets/Stores_level\", f\"{store_id}.csv\"), index=False)"
   ]
  }
 ],
 "metadata": {
  "kernelspec": {
   "display_name": "base",
   "language": "python",
   "name": "python3"
  },
  "language_info": {
   "codemirror_mode": {
    "name": "ipython",
    "version": 3
   },
   "file_extension": ".py",
   "mimetype": "text/x-python",
   "name": "python",
   "nbconvert_exporter": "python",
   "pygments_lexer": "ipython3",
   "version": "3.12.7"
  }
 },
 "nbformat": 4,
 "nbformat_minor": 5
}
